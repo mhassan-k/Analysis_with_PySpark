{
  "nbformat": 4,
  "nbformat_minor": 0,
  "metadata": {
    "colab": {
      "name": "Analysis_with_PySpark.ipynb",
      "provenance": []
    },
    "kernelspec": {
      "name": "python3",
      "display_name": "Python 3"
    }
  },
  "cells": [
    {
      "cell_type": "markdown",
      "metadata": {
        "id": "bD3UyEvl72OL"
      },
      "source": [
        "install Pyspark Module"
      ]
    },
    {
      "cell_type": "code",
      "metadata": {
        "id": "DUww-MSv7gx7",
        "outputId": "06112213-417e-4018-9917-dc1c9fe03280",
        "colab": {
          "base_uri": "https://localhost:8080/",
          "height": 266
        }
      },
      "source": [
        "!pip install pyspark"
      ],
      "execution_count": 2,
      "outputs": [
        {
          "output_type": "stream",
          "text": [
            "Collecting pyspark\n",
            "\u001b[?25l  Downloading https://files.pythonhosted.org/packages/f0/26/198fc8c0b98580f617cb03cb298c6056587b8f0447e20fa40c5b634ced77/pyspark-3.0.1.tar.gz (204.2MB)\n",
            "\u001b[K     |████████████████████████████████| 204.2MB 70kB/s \n",
            "\u001b[?25hCollecting py4j==0.10.9\n",
            "\u001b[?25l  Downloading https://files.pythonhosted.org/packages/9e/b6/6a4fb90cd235dc8e265a6a2067f2a2c99f0d91787f06aca4bcf7c23f3f80/py4j-0.10.9-py2.py3-none-any.whl (198kB)\n",
            "\u001b[K     |████████████████████████████████| 204kB 37.8MB/s \n",
            "\u001b[?25hBuilding wheels for collected packages: pyspark\n",
            "  Building wheel for pyspark (setup.py) ... \u001b[?25l\u001b[?25hdone\n",
            "  Created wheel for pyspark: filename=pyspark-3.0.1-py2.py3-none-any.whl size=204612243 sha256=bdac0a07c860e41271ac21ff249e4f1283a50735b73a9aaf86a8ddb48cb10921\n",
            "  Stored in directory: /root/.cache/pip/wheels/5e/bd/07/031766ca628adec8435bb40f0bd83bb676ce65ff4007f8e73f\n",
            "Successfully built pyspark\n",
            "Installing collected packages: py4j, pyspark\n",
            "Successfully installed py4j-0.10.9 pyspark-3.0.1\n"
          ],
          "name": "stdout"
        }
      ]
    },
    {
      "cell_type": "code",
      "metadata": {
        "id": "UEiaQCVYh9By",
        "outputId": "5f6d1a96-7188-4d21-ff3d-7387f31e0090",
        "colab": {
          "base_uri": "https://localhost:8080/",
          "height": 105
        }
      },
      "source": [
        "!pip install pandas "
      ],
      "execution_count": 3,
      "outputs": [
        {
          "output_type": "stream",
          "text": [
            "Requirement already satisfied: pandas in /usr/local/lib/python3.6/dist-packages (1.1.2)\n",
            "Requirement already satisfied: pytz>=2017.2 in /usr/local/lib/python3.6/dist-packages (from pandas) (2018.9)\n",
            "Requirement already satisfied: python-dateutil>=2.7.3 in /usr/local/lib/python3.6/dist-packages (from pandas) (2.8.1)\n",
            "Requirement already satisfied: numpy>=1.15.4 in /usr/local/lib/python3.6/dist-packages (from pandas) (1.18.5)\n",
            "Requirement already satisfied: six>=1.5 in /usr/local/lib/python3.6/dist-packages (from python-dateutil>=2.7.3->pandas) (1.15.0)\n"
          ],
          "name": "stdout"
        }
      ]
    },
    {
      "cell_type": "code",
      "metadata": {
        "id": "fas8B7rci-Vt",
        "outputId": "fefe6f01-bdba-455d-a889-d937b2a7db9a",
        "colab": {
          "base_uri": "https://localhost:8080/",
          "height": 230
        }
      },
      "source": [
        "!pip install seaborn "
      ],
      "execution_count": 4,
      "outputs": [
        {
          "output_type": "stream",
          "text": [
            "Requirement already satisfied: seaborn in /usr/local/lib/python3.6/dist-packages (0.11.0)\n",
            "Requirement already satisfied: scipy>=1.0 in /usr/local/lib/python3.6/dist-packages (from seaborn) (1.4.1)\n",
            "Requirement already satisfied: pandas>=0.23 in /usr/local/lib/python3.6/dist-packages (from seaborn) (1.1.2)\n",
            "Requirement already satisfied: numpy>=1.15 in /usr/local/lib/python3.6/dist-packages (from seaborn) (1.18.5)\n",
            "Requirement already satisfied: matplotlib>=2.2 in /usr/local/lib/python3.6/dist-packages (from seaborn) (3.2.2)\n",
            "Requirement already satisfied: python-dateutil>=2.7.3 in /usr/local/lib/python3.6/dist-packages (from pandas>=0.23->seaborn) (2.8.1)\n",
            "Requirement already satisfied: pytz>=2017.2 in /usr/local/lib/python3.6/dist-packages (from pandas>=0.23->seaborn) (2018.9)\n",
            "Requirement already satisfied: cycler>=0.10 in /usr/local/lib/python3.6/dist-packages (from matplotlib>=2.2->seaborn) (0.10.0)\n",
            "Requirement already satisfied: kiwisolver>=1.0.1 in /usr/local/lib/python3.6/dist-packages (from matplotlib>=2.2->seaborn) (1.2.0)\n",
            "Requirement already satisfied: pyparsing!=2.0.4,!=2.1.2,!=2.1.6,>=2.0.1 in /usr/local/lib/python3.6/dist-packages (from matplotlib>=2.2->seaborn) (2.4.7)\n",
            "Requirement already satisfied: six>=1.5 in /usr/local/lib/python3.6/dist-packages (from python-dateutil>=2.7.3->pandas>=0.23->seaborn) (1.15.0)\n"
          ],
          "name": "stdout"
        }
      ]
    },
    {
      "cell_type": "markdown",
      "metadata": {
        "id": "Bkp0hqA98Aqg"
      },
      "source": [
        "Import Modules \n"
      ]
    },
    {
      "cell_type": "code",
      "metadata": {
        "id": "JAqZz5km8AK_"
      },
      "source": [
        "from pyspark.sql import SparkSession\n",
        "from pyspark.sql.functions import count, desc , col, max , struct\n",
        "import matplotlib.pyplot as plts\n",
        "from google.colab import files\n",
        "from pyspark.sql import SparkSession, Window\n",
        "from pyspark.sql.functions import isnan, when, count, col, lit, trim, avg, ceil\n",
        "from pyspark.sql.types import StringType\n",
        "import matplotlib.pyplot as plt\n",
        "import pandas as pd\n",
        "import seaborn as sns"
      ],
      "execution_count": 5,
      "outputs": []
    },
    {
      "cell_type": "code",
      "metadata": {
        "id": "udyj_312hV0k",
        "outputId": "fe32c5bc-9970-4687-c4af-56af73de875c",
        "colab": {
          "base_uri": "https://localhost:8080/",
          "height": 34
        }
      },
      "source": [
        "from google.colab import drive\n",
        "drive.mount('/content/drive')"
      ],
      "execution_count": 6,
      "outputs": [
        {
          "output_type": "stream",
          "text": [
            "Drive already mounted at /content/drive; to attempt to forcibly remount, call drive.mount(\"/content/drive\", force_remount=True).\n"
          ],
          "name": "stdout"
        }
      ]
    },
    {
      "cell_type": "code",
      "metadata": {
        "id": "9GuZxVnUjyAt"
      },
      "source": [
        "spark = SparkSession.builder.appName('cleansing_Spark_app').getOrCreate()"
      ],
      "execution_count": 7,
      "outputs": []
    },
    {
      "cell_type": "code",
      "metadata": {
        "id": "gzaZN4UIk01N"
      },
      "source": [
        "lables_path = '/content/drive/My Drive/datasets/labels.csv'\n",
        "features_path = '/content/drive/My Drive/datasets/features.csv'"
      ],
      "execution_count": 8,
      "outputs": []
    },
    {
      "cell_type": "code",
      "metadata": {
        "id": "q8nrGREHlC2B"
      },
      "source": [
        "lables_df = spark.read.format('csv').option('inferSchema',True).option('header',True).load(lables_path)\n",
        "features_df = spark.read.format('csv').option('inferSchema',True).option('header',True).load(features_path)"
      ],
      "execution_count": 9,
      "outputs": []
    },
    {
      "cell_type": "code",
      "metadata": {
        "id": "FlDOtBI-lYvG",
        "outputId": "29dc02ff-fa26-4937-92b6-c88650c38c43",
        "colab": {
          "base_uri": "https://localhost:8080/",
          "height": 494
        }
      },
      "source": [
        "features_df.show()"
      ],
      "execution_count": 10,
      "outputs": [
        {
          "output_type": "stream",
          "text": [
            "+-----+----------+-------------+--------------------+----------+--------------------+-----------+-------------------+--------------------+-----------+--------------------+---------------+-----------+-----------+-------------+----------------+--------------+----------+--------------+--------------------+-----------------+--------------------+------+-----------------+---------------+---------------------+---------------------+----------------+----------------+--------------------+------------+-------------+-------------+------------+--------------+--------------------+--------------------+------------+--------------------+---------------------+\n",
            "|   id|amount_tsh|date_recorded|              funder|gps_height|           installer|  longitude|           latitude|            wpt_name|num_private|               basin|     subvillage|     region|region_code|district_code|             lga|          ward|population|public_meeting|         recorded_by|scheme_management|         scheme_name|permit|construction_year|extraction_type|extraction_type_group|extraction_type_class|      management|management_group|             payment|payment_type|water_quality|quality_group|    quantity|quantity_group|              source|         source_type|source_class|     waterpoint_type|waterpoint_type_group|\n",
            "+-----+----------+-------------+--------------------+----------+--------------------+-----------+-------------------+--------------------+-----------+--------------------+---------------+-----------+-----------+-------------+----------------+--------------+----------+--------------+--------------------+-----------------+--------------------+------+-----------------+---------------+---------------------+---------------------+----------------+----------------+--------------------+------------+-------------+-------------+------------+--------------+--------------------+--------------------+------------+--------------------+---------------------+\n",
            "|69572|    6000.0|   2011-03-14|               Roman|      1390|               Roman|34.93809275|        -9.85632177|                none|          0|          Lake Nyasa|       Mnyusi B|     Iringa|         11|            5|          Ludewa|      Mundindi|       109|          true|GeoData Consultan...|              VWC|               Roman| false|             1999|        gravity|              gravity|              gravity|             vwc|      user-group|        pay annually|    annually|         soft|         good|      enough|        enough|              spring|              spring| groundwater|  communal standpipe|   communal standpipe|\n",
            "| 8776|       0.0|   2013-03-06|             Grumeti|      1399|             GRUMETI| 34.6987661|        -2.14746569|            Zahanati|          0|       Lake Victoria|        Nyamara|       Mara|         20|            2|       Serengeti|         Natta|       280|          null|GeoData Consultan...|            Other|                null|  true|             2010|        gravity|              gravity|              gravity|             wug|      user-group|           never pay|   never pay|         soft|         good|insufficient|  insufficient|rainwater harvesting|rainwater harvesting|     surface|  communal standpipe|   communal standpipe|\n",
            "|34310|      25.0|   2013-02-25|        Lottery Club|       686|        World vision|37.46066446|        -3.82132853|         Kwa Mahundi|          0|             Pangani|        Majengo|    Manyara|         21|            4|       Simanjiro|       Ngorika|       250|          true|GeoData Consultan...|              VWC|Nyumba ya mungu p...|  true|             2009|        gravity|              gravity|              gravity|             vwc|      user-group|      pay per bucket|  per bucket|         soft|         good|      enough|        enough|                 dam|                 dam|     surface|communal standpip...|   communal standpipe|\n",
            "|67743|       0.0|   2013-01-28|              Unicef|       263|              UNICEF|38.48616088|       -11.15529772|Zahanati Ya Nanyumbu|          0|Ruvuma / Southern...|     Mahakamani|     Mtwara|         90|           63|        Nanyumbu|      Nanyumbu|        58|          true|GeoData Consultan...|              VWC|                null|  true|             1986|    submersible|          submersible|          submersible|             vwc|      user-group|           never pay|   never pay|         soft|         good|         dry|           dry|         machine dbh|            borehole| groundwater|communal standpip...|   communal standpipe|\n",
            "|19728|       0.0|   2011-07-13|         Action In A|         0|             Artisan|31.13084671|        -1.82535885|             Shuleni|          0|       Lake Victoria|     Kyanyamisa|     Kagera|         18|            1|         Karagwe|    Nyakasimbi|         0|          true|GeoData Consultan...|             null|                null|  true|                0|        gravity|              gravity|              gravity|           other|           other|           never pay|   never pay|         soft|         good|    seasonal|      seasonal|rainwater harvesting|rainwater harvesting|     surface|  communal standpipe|   communal standpipe|\n",
            "| 9944|      20.0|   2011-03-13| Mkinga Distric Coun|         0|                 DWE| 39.1727956|        -4.76558728|              Tajiri|          0|             Pangani|    Moa/Mwereme|      Tanga|          4|            8|          Mkinga|           Moa|         1|          true|GeoData Consultan...|              VWC|           Zingibali|  true|             2009|    submersible|          submersible|          submersible|             vwc|      user-group|      pay per bucket|  per bucket|        salty|        salty|      enough|        enough|               other|               other|     unknown|communal standpip...|   communal standpipe|\n",
            "|19816|       0.0|   2012-10-01|                Dwsp|         0|                DWSP|33.36240982|        -3.76636472|          Kwa Ngomho|          0|            Internal|  Ishinabulandi|  Shinyanga|         17|            3| Shinyanga Rural|        Samuye|         0|          true|GeoData Consultan...|              VWC|                null|  true|                0|         swn 80|               swn 80|             handpump|             vwc|      user-group|           never pay|   never pay|         soft|         good|      enough|        enough|         machine dbh|            borehole| groundwater|           hand pump|            hand pump|\n",
            "|54551|       0.0|   2012-10-09|               Rwssp|         0|                 DWE|32.62061707|        -4.22619802|        Tushirikiane|          0|     Lake Tanganyika|Nyawishi Center|  Shinyanga|         17|            3|          Kahama|        Chambo|         0|          true|GeoData Consultan...|             null|                null|  true|                0|    nira/tanira|          nira/tanira|             handpump|             wug|      user-group|             unknown|     unknown|        milky|        milky|      enough|        enough|        shallow well|        shallow well| groundwater|           hand pump|            hand pump|\n",
            "|53934|       0.0|   2012-11-03|            Wateraid|         0|           Water Aid|32.71110001|        -5.14671181|   Kwa Ramadhan Musa|          0|     Lake Tanganyika|     Imalauduki|     Tabora|         14|            6|    Tabora Urban|      Itetemia|         0|          true|GeoData Consultan...|              VWC|                null|  true|                0|  india mark ii|        india mark ii|             handpump|             vwc|      user-group|           never pay|   never pay|        salty|        salty|    seasonal|      seasonal|         machine dbh|            borehole| groundwater|           hand pump|            hand pump|\n",
            "|46144|       0.0|   2011-08-03|         Isingiro Ho|         0|             Artisan|30.62699053|        -1.25705061|             Kwapeto|          0|       Lake Victoria|       Mkonomre|     Kagera|         18|            1|         Karagwe|        Kaisho|         0|          true|GeoData Consultan...|             null|                null|  true|                0|    nira/tanira|          nira/tanira|             handpump|             vwc|      user-group|           never pay|   never pay|         soft|         good|      enough|        enough|        shallow well|        shallow well| groundwater|           hand pump|            hand pump|\n",
            "|49056|       0.0|   2011-02-20|             Private|        62|             Private|39.20951812|        -7.03413939|       Mzee Hokororo|          0|         Wami / Ruvu|         Mizugo|      Pwani|         60|           43|        Mkuranga|       Tambani|       345|          true|GeoData Consultan...| Private operator|                null| false|             2011|    submersible|          submersible|          submersible|private operator|      commercial|           never pay|   never pay|        salty|        salty|      enough|        enough|         machine dbh|            borehole| groundwater|               other|                other|\n",
            "|50409|     200.0|   2013-02-18|              Danida|      1062|              DANIDA|35.77025785|       -10.57417468|    Kwa Alid Nchimbi|          0|          Lake Nyasa|   Ngondombwito|     Ruvuma|         10|            5|        Namtumbo|        Msindo|       250|          true|GeoData Consultan...|              WUG|                null| false|             1987|         swn 80|               swn 80|             handpump|             wug|      user-group|pay when scheme f...|  on failure|         soft|         good|insufficient|  insufficient|        shallow well|        shallow well| groundwater|           hand pump|            hand pump|\n",
            "|36957|       0.0|   2012-10-14|        World Vision|         0|        World vision|33.79810612|-3.2901937999999995|               Pamba|          0|            Internal|        Nkilifa|  Shinyanga|         17|            2|           Maswa|      Busilili|         0|          true|GeoData Consultan...|              WUG|                null| false|                0|    nira/tanira|          nira/tanira|             handpump|             wug|      user-group|               other|       other|         soft|         good|      enough|        enough|        shallow well|        shallow well| groundwater|           hand pump|            hand pump|\n",
            "|50495|       0.0|   2013-03-15|Lawatefuka Water ...|      1368|Lawatefuka water sup|37.09257412|-3.1817832999999998|Kwa John Izack Mmari|          0|             Pangani|        Omarini|Kilimanjaro|          3|            7|            Siha|Siha Kaskazini|         1|          true|GeoData Consultan...|      Water Board|          BL Bondeni|  true|             2009|        gravity|              gravity|              gravity|     water board|      user-group|         pay monthly|     monthly|         soft|         good|      enough|        enough|              spring|              spring| groundwater|  communal standpipe|   communal standpipe|\n",
            "|53752|       0.0|   2012-10-20|               Biore|         0|              WEDECO|34.36407268|        -3.62933335|           Mwabasabi|          0|            Internal|      Mwabasabi|  Shinyanga|         17|            6|           Meatu|         Nkoma|         0|          true|GeoData Consultan...|              WUG|                None|  true|                0|    nira/tanira|          nira/tanira|             handpump|             wug|      user-group|           never pay|   never pay|         soft|         good|      enough|        enough|        shallow well|        shallow well| groundwater|           hand pump|            hand pump|\n",
            "|61848|       0.0|   2011-08-04|               Rudep|      1645|                 DWE|31.44412134|        -8.27496163|Kwa Juvenal Ching...|          0|     Lake Tanganyika|          Tunzi|      Rukwa|         15|            2|Sumbawanga Rural|         Mkowe|       200|          true|GeoData Consultan...|              VWC|                null| false|             1991|         swn 80|               swn 80|             handpump|             vwc|      user-group|           never pay|   never pay|         soft|         good|      enough|        enough|         machine dbh|            borehole| groundwater|           hand pump|            hand pump|\n",
            "|48451|     500.0|   2011-07-04|              Unicef|      1703|                 DWE|34.64243884|        -9.10618458|     Kwa John Mtenzi|          0|              Rufiji|       Kidudumo|     Iringa|         11|            4|          Njombe|        Mdandu|        35|          true|GeoData Consultan...|              WUA|wanging'ombe wate...|  true|             1978|        gravity|              gravity|              gravity|             wua|      user-group|         pay monthly|     monthly|         soft|         good|         dry|           dry|               river|          river/lake|     surface|  communal standpipe|   communal standpipe|\n",
            "|58155|       0.0|   2011-09-04|              Unicef|      1656|                 DWE|34.56926611|        -9.08551497|     Kwa Rose Chaula|          0|              Rufiji|         Yeriko|     Iringa|         11|            4|          Njombe|         Usuka|        50|          true|GeoData Consultan...|              WUA|wanging'ombe wate...|  true|             1978|        gravity|              gravity|              gravity|             wua|      user-group|pay when scheme f...|  on failure|         soft|         good|         dry|           dry|               river|          river/lake|     surface|  communal standpipe|   communal standpipe|\n",
            "|34169|       0.0|   2011-07-22|              Hesawa|      1162|                 DWE|32.92015381|        -1.94786801|              Ngomee|          0|       Lake Victoria|         Center|     Mwanza|         19|            1|         Ukerewe|      Ilangala|      1000|          null|GeoData Consultan...|             null|                null|  true|             1999|          other|                other|                other|             vwc|      user-group|           never pay|   never pay|        milky|        milky|insufficient|  insufficient|              spring|              spring| groundwater|               other|                other|\n",
            "|18274|     500.0|   2011-02-22|              Danida|      1763|               Danid|34.50896732|         -9.8944125|                none|          0|          Lake Nyasa|       Manyanya|     Iringa|         11|            5|          Ludewa|       Mawengi|         1|          true|GeoData Consultan...|              VWC|              Makanj|  true|             1992|        gravity|              gravity|              gravity|             vwc|      user-group|        pay annually|    annually|         soft|         good|      enough|        enough|              spring|              spring| groundwater|  communal standpipe|   communal standpipe|\n",
            "+-----+----------+-------------+--------------------+----------+--------------------+-----------+-------------------+--------------------+-----------+--------------------+---------------+-----------+-----------+-------------+----------------+--------------+----------+--------------+--------------------+-----------------+--------------------+------+-----------------+---------------+---------------------+---------------------+----------------+----------------+--------------------+------------+-------------+-------------+------------+--------------+--------------------+--------------------+------------+--------------------+---------------------+\n",
            "only showing top 20 rows\n",
            "\n"
          ],
          "name": "stdout"
        }
      ]
    },
    {
      "cell_type": "code",
      "metadata": {
        "id": "1X7zMGp4lkGm"
      },
      "source": [
        "data = features_df.join(lables_df , on=['id'])"
      ],
      "execution_count": 11,
      "outputs": []
    },
    {
      "cell_type": "code",
      "metadata": {
        "id": "0DAPj81hmKmq",
        "outputId": "4fa56d94-7752-49c8-fb82-841c69813075",
        "colab": {
          "base_uri": "https://localhost:8080/",
          "height": 34
        }
      },
      "source": [
        "data.count()"
      ],
      "execution_count": 12,
      "outputs": [
        {
          "output_type": "execute_result",
          "data": {
            "text/plain": [
              "59400"
            ]
          },
          "metadata": {
            "tags": []
          },
          "execution_count": 12
        }
      ]
    },
    {
      "cell_type": "code",
      "metadata": {
        "id": "tAJ_Pf-pmNHo",
        "outputId": "b78666ab-a721-4408-80c4-f5ebdf024634",
        "colab": {
          "base_uri": "https://localhost:8080/",
          "height": 774
        }
      },
      "source": [
        "data.printSchema()"
      ],
      "execution_count": 13,
      "outputs": [
        {
          "output_type": "stream",
          "text": [
            "root\n",
            " |-- id: integer (nullable = true)\n",
            " |-- amount_tsh: double (nullable = true)\n",
            " |-- date_recorded: string (nullable = true)\n",
            " |-- funder: string (nullable = true)\n",
            " |-- gps_height: integer (nullable = true)\n",
            " |-- installer: string (nullable = true)\n",
            " |-- longitude: double (nullable = true)\n",
            " |-- latitude: double (nullable = true)\n",
            " |-- wpt_name: string (nullable = true)\n",
            " |-- num_private: integer (nullable = true)\n",
            " |-- basin: string (nullable = true)\n",
            " |-- subvillage: string (nullable = true)\n",
            " |-- region: string (nullable = true)\n",
            " |-- region_code: integer (nullable = true)\n",
            " |-- district_code: integer (nullable = true)\n",
            " |-- lga: string (nullable = true)\n",
            " |-- ward: string (nullable = true)\n",
            " |-- population: integer (nullable = true)\n",
            " |-- public_meeting: boolean (nullable = true)\n",
            " |-- recorded_by: string (nullable = true)\n",
            " |-- scheme_management: string (nullable = true)\n",
            " |-- scheme_name: string (nullable = true)\n",
            " |-- permit: boolean (nullable = true)\n",
            " |-- construction_year: integer (nullable = true)\n",
            " |-- extraction_type: string (nullable = true)\n",
            " |-- extraction_type_group: string (nullable = true)\n",
            " |-- extraction_type_class: string (nullable = true)\n",
            " |-- management: string (nullable = true)\n",
            " |-- management_group: string (nullable = true)\n",
            " |-- payment: string (nullable = true)\n",
            " |-- payment_type: string (nullable = true)\n",
            " |-- water_quality: string (nullable = true)\n",
            " |-- quality_group: string (nullable = true)\n",
            " |-- quantity: string (nullable = true)\n",
            " |-- quantity_group: string (nullable = true)\n",
            " |-- source: string (nullable = true)\n",
            " |-- source_type: string (nullable = true)\n",
            " |-- source_class: string (nullable = true)\n",
            " |-- waterpoint_type: string (nullable = true)\n",
            " |-- waterpoint_type_group: string (nullable = true)\n",
            " |-- status_group: string (nullable = true)\n",
            "\n"
          ],
          "name": "stdout"
        }
      ]
    },
    {
      "cell_type": "code",
      "metadata": {
        "id": "0DEU3YVjlfrK"
      },
      "source": [
        "data = data.withColumn('region_code' , col('region_code').cast(StringType())).withColumn('district_code' , col('district_code').cast(StringType()))"
      ],
      "execution_count": 14,
      "outputs": []
    },
    {
      "cell_type": "code",
      "metadata": {
        "id": "N6Cp6fq26RPp",
        "outputId": "b0be30cb-4f03-41be-a9b1-535e3912789d",
        "colab": {
          "base_uri": "https://localhost:8080/",
          "height": 774
        }
      },
      "source": [
        "data.printSchema()"
      ],
      "execution_count": 15,
      "outputs": [
        {
          "output_type": "stream",
          "text": [
            "root\n",
            " |-- id: integer (nullable = true)\n",
            " |-- amount_tsh: double (nullable = true)\n",
            " |-- date_recorded: string (nullable = true)\n",
            " |-- funder: string (nullable = true)\n",
            " |-- gps_height: integer (nullable = true)\n",
            " |-- installer: string (nullable = true)\n",
            " |-- longitude: double (nullable = true)\n",
            " |-- latitude: double (nullable = true)\n",
            " |-- wpt_name: string (nullable = true)\n",
            " |-- num_private: integer (nullable = true)\n",
            " |-- basin: string (nullable = true)\n",
            " |-- subvillage: string (nullable = true)\n",
            " |-- region: string (nullable = true)\n",
            " |-- region_code: string (nullable = true)\n",
            " |-- district_code: string (nullable = true)\n",
            " |-- lga: string (nullable = true)\n",
            " |-- ward: string (nullable = true)\n",
            " |-- population: integer (nullable = true)\n",
            " |-- public_meeting: boolean (nullable = true)\n",
            " |-- recorded_by: string (nullable = true)\n",
            " |-- scheme_management: string (nullable = true)\n",
            " |-- scheme_name: string (nullable = true)\n",
            " |-- permit: boolean (nullable = true)\n",
            " |-- construction_year: integer (nullable = true)\n",
            " |-- extraction_type: string (nullable = true)\n",
            " |-- extraction_type_group: string (nullable = true)\n",
            " |-- extraction_type_class: string (nullable = true)\n",
            " |-- management: string (nullable = true)\n",
            " |-- management_group: string (nullable = true)\n",
            " |-- payment: string (nullable = true)\n",
            " |-- payment_type: string (nullable = true)\n",
            " |-- water_quality: string (nullable = true)\n",
            " |-- quality_group: string (nullable = true)\n",
            " |-- quantity: string (nullable = true)\n",
            " |-- quantity_group: string (nullable = true)\n",
            " |-- source: string (nullable = true)\n",
            " |-- source_type: string (nullable = true)\n",
            " |-- source_class: string (nullable = true)\n",
            " |-- waterpoint_type: string (nullable = true)\n",
            " |-- waterpoint_type_group: string (nullable = true)\n",
            " |-- status_group: string (nullable = true)\n",
            "\n"
          ],
          "name": "stdout"
        }
      ]
    },
    {
      "cell_type": "code",
      "metadata": {
        "id": "yH6lRtC56VH-"
      },
      "source": [
        "data = data.dropDuplicates(['id'])"
      ],
      "execution_count": 16,
      "outputs": []
    },
    {
      "cell_type": "code",
      "metadata": {
        "id": "gtgsp2et6uxr",
        "outputId": "3fdd5a4c-49e7-4142-abde-4165d49efd16",
        "colab": {
          "base_uri": "https://localhost:8080/",
          "height": 34
        }
      },
      "source": [
        "data.count()"
      ],
      "execution_count": 17,
      "outputs": [
        {
          "output_type": "execute_result",
          "data": {
            "text/plain": [
              "59400"
            ]
          },
          "metadata": {
            "tags": []
          },
          "execution_count": 17
        }
      ]
    },
    {
      "cell_type": "code",
      "metadata": {
        "id": "zCMppr7r6yOz"
      },
      "source": [
        "data = data.withColumnRenamed('status_group' ,'status_grp')"
      ],
      "execution_count": 18,
      "outputs": []
    },
    {
      "cell_type": "code",
      "metadata": {
        "id": "zp9GC0Hj9Y_u",
        "outputId": "0ef156f4-3392-4baa-e38f-c27104bad582",
        "colab": {
          "base_uri": "https://localhost:8080/",
          "height": 774
        }
      },
      "source": [
        "data.printSchema()"
      ],
      "execution_count": 19,
      "outputs": [
        {
          "output_type": "stream",
          "text": [
            "root\n",
            " |-- id: integer (nullable = true)\n",
            " |-- amount_tsh: double (nullable = true)\n",
            " |-- date_recorded: string (nullable = true)\n",
            " |-- funder: string (nullable = true)\n",
            " |-- gps_height: integer (nullable = true)\n",
            " |-- installer: string (nullable = true)\n",
            " |-- longitude: double (nullable = true)\n",
            " |-- latitude: double (nullable = true)\n",
            " |-- wpt_name: string (nullable = true)\n",
            " |-- num_private: integer (nullable = true)\n",
            " |-- basin: string (nullable = true)\n",
            " |-- subvillage: string (nullable = true)\n",
            " |-- region: string (nullable = true)\n",
            " |-- region_code: string (nullable = true)\n",
            " |-- district_code: string (nullable = true)\n",
            " |-- lga: string (nullable = true)\n",
            " |-- ward: string (nullable = true)\n",
            " |-- population: integer (nullable = true)\n",
            " |-- public_meeting: boolean (nullable = true)\n",
            " |-- recorded_by: string (nullable = true)\n",
            " |-- scheme_management: string (nullable = true)\n",
            " |-- scheme_name: string (nullable = true)\n",
            " |-- permit: boolean (nullable = true)\n",
            " |-- construction_year: integer (nullable = true)\n",
            " |-- extraction_type: string (nullable = true)\n",
            " |-- extraction_type_group: string (nullable = true)\n",
            " |-- extraction_type_class: string (nullable = true)\n",
            " |-- management: string (nullable = true)\n",
            " |-- management_group: string (nullable = true)\n",
            " |-- payment: string (nullable = true)\n",
            " |-- payment_type: string (nullable = true)\n",
            " |-- water_quality: string (nullable = true)\n",
            " |-- quality_group: string (nullable = true)\n",
            " |-- quantity: string (nullable = true)\n",
            " |-- quantity_group: string (nullable = true)\n",
            " |-- source: string (nullable = true)\n",
            " |-- source_type: string (nullable = true)\n",
            " |-- source_class: string (nullable = true)\n",
            " |-- waterpoint_type: string (nullable = true)\n",
            " |-- waterpoint_type_group: string (nullable = true)\n",
            " |-- status_grp: string (nullable = true)\n",
            "\n"
          ],
          "name": "stdout"
        }
      ]
    },
    {
      "cell_type": "code",
      "metadata": {
        "id": "YxMcL4d-9dGv"
      },
      "source": [
        "str_cols = [item[0] for item in data.dtypes if item[1].startswith('string')]\n",
        "for cols in str_cols:\n",
        "    data = data.withColumn(cols , trim(data[cols]))"
      ],
      "execution_count": 26,
      "outputs": []
    },
    {
      "cell_type": "code",
      "metadata": {
        "id": "qxwD_RDfq28X"
      },
      "source": [
        ""
      ],
      "execution_count": null,
      "outputs": []
    }
  ]
}